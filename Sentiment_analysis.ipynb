{
 "cells": [
  {
   "cell_type": "code",
   "execution_count": 5,
   "metadata": {},
   "outputs": [],
   "source": [
    "import pandas as pd\n",
    "import numpy as np"
   ]
  },
  {
   "cell_type": "code",
   "execution_count": 13,
   "metadata": {},
   "outputs": [
    {
     "data": {
      "text/html": [
       "<div>\n",
       "<style scoped>\n",
       "    .dataframe tbody tr th:only-of-type {\n",
       "        vertical-align: middle;\n",
       "    }\n",
       "\n",
       "    .dataframe tbody tr th {\n",
       "        vertical-align: top;\n",
       "    }\n",
       "\n",
       "    .dataframe thead th {\n",
       "        text-align: right;\n",
       "    }\n",
       "</style>\n",
       "<table border=\"1\" class=\"dataframe\">\n",
       "  <thead>\n",
       "    <tr style=\"text-align: right;\">\n",
       "      <th></th>\n",
       "      <th>Channel_ID</th>\n",
       "      <th>comments</th>\n",
       "      <th>created_at</th>\n",
       "      <th>duration</th>\n",
       "      <th>rating</th>\n",
       "      <th>ratings</th>\n",
       "      <th>title</th>\n",
       "      <th>videoId</th>\n",
       "      <th>views</th>\n",
       "      <th>Type</th>\n",
       "      <th>category</th>\n",
       "    </tr>\n",
       "  </thead>\n",
       "  <tbody>\n",
       "    <tr>\n",
       "      <th>0</th>\n",
       "      <td>UC2j9n-qOfRGdlxS0EcAZVdw</td>\n",
       "      <td>7</td>\n",
       "      <td>29-10-2017</td>\n",
       "      <td>PT18M38S</td>\n",
       "      <td>94.7</td>\n",
       "      <td>151</td>\n",
       "      <td>Á quân Asia Beatbox Trần Thái Sơn. Cựu sinh vi...</td>\n",
       "      <td>3xPakwjtiAA</td>\n",
       "      <td>22998</td>\n",
       "      <td>HR</td>\n",
       "      <td>People</td>\n",
       "    </tr>\n",
       "    <tr>\n",
       "      <th>1</th>\n",
       "      <td>UC2j9n-qOfRGdlxS0EcAZVdw</td>\n",
       "      <td>47</td>\n",
       "      <td>4/8/2018</td>\n",
       "      <td>PT3M50S</td>\n",
       "      <td>86.6</td>\n",
       "      <td>723</td>\n",
       "      <td>Ừ có em đây! Cover</td>\n",
       "      <td>7TKjkSfp9zU</td>\n",
       "      <td>50416</td>\n",
       "      <td>HR</td>\n",
       "      <td>People</td>\n",
       "    </tr>\n",
       "    <tr>\n",
       "      <th>2</th>\n",
       "      <td>UC2j9n-qOfRGdlxS0EcAZVdw</td>\n",
       "      <td>5322</td>\n",
       "      <td>16-12-2017</td>\n",
       "      <td>PT2M29S</td>\n",
       "      <td>77.0</td>\n",
       "      <td>278983</td>\n",
       "      <td>Đẹp mà lầy lội deso =)))</td>\n",
       "      <td>1TPFTN_UibA</td>\n",
       "      <td>83985505</td>\n",
       "      <td>HR</td>\n",
       "      <td>People</td>\n",
       "    </tr>\n",
       "    <tr>\n",
       "      <th>3</th>\n",
       "      <td>UC2j9n-qOfRGdlxS0EcAZVdw</td>\n",
       "      <td>0</td>\n",
       "      <td>14-07-2019</td>\n",
       "      <td>PT3M59S</td>\n",
       "      <td>75.0</td>\n",
       "      <td>16</td>\n",
       "      <td>Đau Để Trưởng Thành | Cover</td>\n",
       "      <td>FHhHlhkN5p0</td>\n",
       "      <td>825</td>\n",
       "      <td>HR</td>\n",
       "      <td>People</td>\n",
       "    </tr>\n",
       "    <tr>\n",
       "      <th>4</th>\n",
       "      <td>UC2j9n-qOfRGdlxS0EcAZVdw</td>\n",
       "      <td>2</td>\n",
       "      <td>22-03-2019</td>\n",
       "      <td>PT6M24S</td>\n",
       "      <td>71.7</td>\n",
       "      <td>120</td>\n",
       "      <td>Võ Nhạc_ Tiết mục đạt giải Nhất | F-Talent | F...</td>\n",
       "      <td>_jJ94BrWUVc</td>\n",
       "      <td>12647</td>\n",
       "      <td>HR</td>\n",
       "      <td>People</td>\n",
       "    </tr>\n",
       "  </tbody>\n",
       "</table>\n",
       "</div>"
      ],
      "text/plain": [
       "                 Channel_ID  comments  created_at  duration  rating  ratings  \\\n",
       "0  UC2j9n-qOfRGdlxS0EcAZVdw         7  29-10-2017  PT18M38S    94.7      151   \n",
       "1  UC2j9n-qOfRGdlxS0EcAZVdw        47    4/8/2018   PT3M50S    86.6      723   \n",
       "2  UC2j9n-qOfRGdlxS0EcAZVdw      5322  16-12-2017   PT2M29S    77.0   278983   \n",
       "3  UC2j9n-qOfRGdlxS0EcAZVdw         0  14-07-2019   PT3M59S    75.0       16   \n",
       "4  UC2j9n-qOfRGdlxS0EcAZVdw         2  22-03-2019   PT6M24S    71.7      120   \n",
       "\n",
       "                                               title      videoId     views  \\\n",
       "0  Á quân Asia Beatbox Trần Thái Sơn. Cựu sinh vi...  3xPakwjtiAA     22998   \n",
       "1                                 Ừ có em đây! Cover  7TKjkSfp9zU     50416   \n",
       "2                           Đẹp mà lầy lội deso =)))  1TPFTN_UibA  83985505   \n",
       "3                        Đau Để Trưởng Thành | Cover  FHhHlhkN5p0       825   \n",
       "4  Võ Nhạc_ Tiết mục đạt giải Nhất | F-Talent | F...  _jJ94BrWUVc     12647   \n",
       "\n",
       "  Type category  \n",
       "0   HR   People  \n",
       "1   HR   People  \n",
       "2   HR   People  \n",
       "3   HR   People  \n",
       "4   HR   People  "
      ]
     },
     "execution_count": 13,
     "metadata": {},
     "output_type": "execute_result"
    }
   ],
   "source": [
    "df = pd.read_csv(\"video_consolidated_copy.csv\")\n",
    "df.head()"
   ]
  },
  {
   "cell_type": "code",
   "execution_count": 14,
   "metadata": {},
   "outputs": [
    {
     "data": {
      "text/html": [
       "<div>\n",
       "<style scoped>\n",
       "    .dataframe tbody tr th:only-of-type {\n",
       "        vertical-align: middle;\n",
       "    }\n",
       "\n",
       "    .dataframe tbody tr th {\n",
       "        vertical-align: top;\n",
       "    }\n",
       "\n",
       "    .dataframe thead th {\n",
       "        text-align: right;\n",
       "    }\n",
       "</style>\n",
       "<table border=\"1\" class=\"dataframe\">\n",
       "  <thead>\n",
       "    <tr style=\"text-align: right;\">\n",
       "      <th></th>\n",
       "      <th>Channel_ID</th>\n",
       "      <th>comments</th>\n",
       "      <th>created_at</th>\n",
       "      <th>duration</th>\n",
       "      <th>rating</th>\n",
       "      <th>ratings</th>\n",
       "      <th>title</th>\n",
       "      <th>videoId</th>\n",
       "      <th>views</th>\n",
       "      <th>Type</th>\n",
       "      <th>category</th>\n",
       "    </tr>\n",
       "  </thead>\n",
       "  <tbody>\n",
       "    <tr>\n",
       "      <th>124</th>\n",
       "      <td>UCq1IJfYBQlBMwY1YYRH02-Q</td>\n",
       "      <td>0</td>\n",
       "      <td>29-06-2012</td>\n",
       "      <td>PT46S</td>\n",
       "      <td>100.0</td>\n",
       "      <td>3</td>\n",
       "      <td>Выпускной 2012. Смотрите и учитесь!</td>\n",
       "      <td>H1R6DzL9c-c</td>\n",
       "      <td>468</td>\n",
       "      <td>HR</td>\n",
       "      <td>People</td>\n",
       "    </tr>\n",
       "    <tr>\n",
       "      <th>125</th>\n",
       "      <td>UCq1IJfYBQlBMwY1YYRH02-Q</td>\n",
       "      <td>0</td>\n",
       "      <td>6/4/2019</td>\n",
       "      <td>PT1M18S</td>\n",
       "      <td>87.5</td>\n",
       "      <td>56</td>\n",
       "      <td>Свадьба. Конкурсы.</td>\n",
       "      <td>De8IToNyaFY</td>\n",
       "      <td>8667</td>\n",
       "      <td>HR</td>\n",
       "      <td>People</td>\n",
       "    </tr>\n",
       "    <tr>\n",
       "      <th>126</th>\n",
       "      <td>UCq1IJfYBQlBMwY1YYRH02-Q</td>\n",
       "      <td>1</td>\n",
       "      <td>9/4/2019</td>\n",
       "      <td>PT2M44S</td>\n",
       "      <td>83.3</td>\n",
       "      <td>48</td>\n",
       "      <td>Свадьба  Прикольный конкурс  Лифчик в студию!</td>\n",
       "      <td>LjSeiOcjcS0</td>\n",
       "      <td>8573</td>\n",
       "      <td>HR</td>\n",
       "      <td>People</td>\n",
       "    </tr>\n",
       "    <tr>\n",
       "      <th>127</th>\n",
       "      <td>UCq1IJfYBQlBMwY1YYRH02-Q</td>\n",
       "      <td>1</td>\n",
       "      <td>25-11-2017</td>\n",
       "      <td>PT2M38S</td>\n",
       "      <td>83.3</td>\n",
       "      <td>42</td>\n",
       "      <td>Свадьба. Свадебные приколы.</td>\n",
       "      <td>37JfdkaBkhI</td>\n",
       "      <td>18378</td>\n",
       "      <td>HR</td>\n",
       "      <td>People</td>\n",
       "    </tr>\n",
       "    <tr>\n",
       "      <th>128</th>\n",
       "      <td>UCq1IJfYBQlBMwY1YYRH02-Q</td>\n",
       "      <td>0</td>\n",
       "      <td>6/10/2017</td>\n",
       "      <td>PT57S</td>\n",
       "      <td>82.5</td>\n",
       "      <td>40</td>\n",
       "      <td>Свадьба. Веселый конкурс 1.</td>\n",
       "      <td>f2bbvNLF2N4</td>\n",
       "      <td>47507</td>\n",
       "      <td>HR</td>\n",
       "      <td>People</td>\n",
       "    </tr>\n",
       "  </tbody>\n",
       "</table>\n",
       "</div>"
      ],
      "text/plain": [
       "                   Channel_ID  comments  created_at duration  rating  ratings  \\\n",
       "124  UCq1IJfYBQlBMwY1YYRH02-Q         0  29-06-2012    PT46S   100.0        3   \n",
       "125  UCq1IJfYBQlBMwY1YYRH02-Q         0    6/4/2019  PT1M18S    87.5       56   \n",
       "126  UCq1IJfYBQlBMwY1YYRH02-Q         1    9/4/2019  PT2M44S    83.3       48   \n",
       "127  UCq1IJfYBQlBMwY1YYRH02-Q         1  25-11-2017  PT2M38S    83.3       42   \n",
       "128  UCq1IJfYBQlBMwY1YYRH02-Q         0   6/10/2017    PT57S    82.5       40   \n",
       "\n",
       "                                             title      videoId  views Type  \\\n",
       "124            Выпускной 2012. Смотрите и учитесь!  H1R6DzL9c-c    468   HR   \n",
       "125                             Свадьба. Конкурсы.  De8IToNyaFY   8667   HR   \n",
       "126  Свадьба  Прикольный конкурс  Лифчик в студию!  LjSeiOcjcS0   8573   HR   \n",
       "127                    Свадьба. Свадебные приколы.  37JfdkaBkhI  18378   HR   \n",
       "128                    Свадьба. Веселый конкурс 1.  f2bbvNLF2N4  47507   HR   \n",
       "\n",
       "    category  \n",
       "124   People  \n",
       "125   People  \n",
       "126   People  \n",
       "127   People  \n",
       "128   People  "
      ]
     },
     "execution_count": 14,
     "metadata": {},
     "output_type": "execute_result"
    }
   ],
   "source": [
    "df = df[124:200]\n",
    "df.head()"
   ]
  },
  {
   "cell_type": "markdown",
   "metadata": {},
   "source": [
    "Convert title to english"
   ]
  },
  {
   "cell_type": "code",
   "execution_count": 15,
   "metadata": {},
   "outputs": [
    {
     "name": "stdout",
     "output_type": "stream",
     "text": [
      "Collecting py-translate\n",
      "  Downloading https://files.pythonhosted.org/packages/8f/bd/8ee839d3965f832e6a3eb054290aedf9ff0bb37350e0a0e81a0357d0a447/py_translate-1.0.3-py2.py3-none-any.whl (61kB)\n",
      "Installing collected packages: py-translate\n",
      "Successfully installed py-translate-1.0.3\n",
      "Note: you may need to restart the kernel to use updated packages.\n"
     ]
    }
   ],
   "source": [
    "pip install py-translate"
   ]
  },
  {
   "cell_type": "code",
   "execution_count": 19,
   "metadata": {},
   "outputs": [
    {
     "name": "stdout",
     "output_type": "stream",
     "text": [
      "Collecting langdetect\n",
      "  Downloading https://files.pythonhosted.org/packages/59/59/4bc44158a767a6d66de18c4136c8aa90491d56cc951c10b74dd1e13213c9/langdetect-1.0.7.zip (998kB)\n",
      "Requirement already satisfied: six in c:\\programdata\\anaconda3\\lib\\site-packages (from langdetect) (1.12.0)\n",
      "Building wheels for collected packages: langdetect\n",
      "  Building wheel for langdetect (setup.py): started\n",
      "  Building wheel for langdetect (setup.py): finished with status 'done'\n",
      "  Stored in directory: C:\\Users\\murmeg01\\AppData\\Local\\pip\\Cache\\wheels\\ec\\0c\\a9\\1647275e7ef5014e7b83ff30105180e332867d65e7617ddafe\n",
      "Successfully built langdetect\n",
      "Installing collected packages: langdetect\n",
      "Successfully installed langdetect-1.0.7\n",
      "Note: you may need to restart the kernel to use updated packages.\n"
     ]
    }
   ],
   "source": [
    "pip install langdetect"
   ]
  },
  {
   "cell_type": "code",
   "execution_count": 26,
   "metadata": {},
   "outputs": [
    {
     "data": {
      "text/plain": [
       "[ar:0.9999976701757775]"
      ]
     },
     "execution_count": 26,
     "metadata": {},
     "output_type": "execute_result"
    }
   ],
   "source": [
    "from langdetect import detect_langs \n",
    "detect_langs(\"لما تطلب من صاحبك يعقل ويقلبا مناحة 💔😂 - مسلسل روزنا شوف دراما\")"
   ]
  },
  {
   "cell_type": "code",
   "execution_count": 22,
   "metadata": {},
   "outputs": [
    {
     "name": "stdout",
     "output_type": "stream",
     "text": [
      "Collecting translate\n",
      "  Downloading https://files.pythonhosted.org/packages/85/b2/2ea329a07bbc0c7227eef84ca89ffd6895e7ec237d6c0b26574d56103e53/translate-3.5.0-py2.py3-none-any.whl\n",
      "Collecting tox (from translate)\n",
      "  Downloading https://files.pythonhosted.org/packages/3f/21/66868fc9074e366d0dc6952c53c918230e772fd662e69b331bac7a67fcbe/tox-3.13.2-py2.py3-none-any.whl (80kB)\n",
      "Requirement already satisfied: click in c:\\programdata\\anaconda3\\lib\\site-packages (from translate) (7.0)\n",
      "Requirement already satisfied: lxml in c:\\programdata\\anaconda3\\lib\\site-packages (from translate) (4.3.2)\n",
      "Collecting pre-commit (from translate)\n",
      "  Downloading https://files.pythonhosted.org/packages/83/79/bc973b10357a328c2cfd49a3d4214f00baff2684f4756ba2e1cee3479211/pre_commit-1.18.2-py2.py3-none-any.whl (154kB)\n",
      "Requirement already satisfied: requests in c:\\programdata\\anaconda3\\lib\\site-packages (from translate) (2.21.0)\n",
      "Collecting pluggy<1,>=0.12.0 (from tox->translate)\n",
      "  Downloading https://files.pythonhosted.org/packages/06/ee/de89e0582276e3551df3110088bf20844de2b0e7df2748406876cc78e021/pluggy-0.12.0-py2.py3-none-any.whl\n",
      "Requirement already satisfied: py<2,>=1.4.17 in c:\\programdata\\anaconda3\\lib\\site-packages (from tox->translate) (1.8.0)\n",
      "Collecting virtualenv>=14.0.0 (from tox->translate)\n",
      "  Downloading https://files.pythonhosted.org/packages/5e/6a/fa7e7f533595402040c831500bb10576e1f4b8f54d476f3994c7c55d8f5e/virtualenv-16.7.3-py2.py3-none-any.whl (3.3MB)\n",
      "Requirement already satisfied: six<2,>=1.0.0 in c:\\programdata\\anaconda3\\lib\\site-packages (from tox->translate) (1.12.0)\n",
      "Collecting importlib-metadata<1,>=0.12 (from tox->translate)\n",
      "  Downloading https://files.pythonhosted.org/packages/ad/aa/25fcbded2ab4ed4ff3071d1e000cd4f8f9c65653d2d7157dd105a8e81d42/importlib_metadata-0.19-py2.py3-none-any.whl\n",
      "Requirement already satisfied: filelock<4,>=3.0.0 in c:\\programdata\\anaconda3\\lib\\site-packages (from tox->translate) (3.0.10)\n",
      "Requirement already satisfied: packaging>=14 in c:\\programdata\\anaconda3\\lib\\site-packages (from tox->translate) (19.0)\n",
      "Collecting toml>=0.9.4 (from tox->translate)\n",
      "  Downloading https://files.pythonhosted.org/packages/a2/12/ced7105d2de62fa7c8fb5fce92cc4ce66b57c95fb875e9318dba7f8c5db0/toml-0.10.0-py2.py3-none-any.whl\n",
      "Collecting aspy.yaml (from pre-commit->translate)\n",
      "  Downloading https://files.pythonhosted.org/packages/99/ce/78be097b00817ccf02deaf481eb7a603eecee6fa216e82fa7848cd265449/aspy.yaml-1.3.0-py2.py3-none-any.whl\n",
      "Collecting cfgv>=2.0.0 (from pre-commit->translate)\n",
      "  Downloading https://files.pythonhosted.org/packages/6e/ff/2e6bcaff26058200717c469a0910da96c89bb00e9cc31b68aa0bfc9b1b0d/cfgv-2.0.1-py2.py3-none-any.whl\n",
      "Requirement already satisfied: pyyaml in c:\\programdata\\anaconda3\\lib\\site-packages (from pre-commit->translate) (5.1)\n",
      "Collecting identify>=1.0.0 (from pre-commit->translate)\n",
      "  Downloading https://files.pythonhosted.org/packages/f6/7e/e957d24eb32ad0131bde6e764080b98ed8b2a024f4b7ecfb91f4b446f61d/identify-1.4.6-py2.py3-none-any.whl (97kB)\n",
      "Collecting nodeenv>=0.11.1 (from pre-commit->translate)\n",
      "  Downloading https://files.pythonhosted.org/packages/00/6e/ed417bd1ed417ab3feada52d0c89ab0ed87d150f91590badf84273e047c9/nodeenv-1.3.3.tar.gz\n",
      "Requirement already satisfied: urllib3<1.25,>=1.21.1 in c:\\programdata\\anaconda3\\lib\\site-packages (from requests->translate) (1.24.1)\n",
      "Requirement already satisfied: certifi>=2017.4.17 in c:\\programdata\\anaconda3\\lib\\site-packages (from requests->translate) (2019.3.9)\n",
      "Requirement already satisfied: chardet<3.1.0,>=3.0.2 in c:\\programdata\\anaconda3\\lib\\site-packages (from requests->translate) (3.0.4)\n",
      "Requirement already satisfied: idna<2.9,>=2.5 in c:\\programdata\\anaconda3\\lib\\site-packages (from requests->translate) (2.8)\n",
      "Collecting zipp>=0.5 (from importlib-metadata<1,>=0.12->tox->translate)\n",
      "  Downloading https://files.pythonhosted.org/packages/da/bd/1a5fdf15aa44231fd09f63ecf175b60f057ae37ec65b343bb009364923f3/zipp-0.5.2-py2.py3-none-any.whl\n",
      "Requirement already satisfied: pyparsing>=2.0.2 in c:\\programdata\\anaconda3\\lib\\site-packages (from packaging>=14->tox->translate) (2.3.1)\n",
      "Building wheels for collected packages: nodeenv\n",
      "  Building wheel for nodeenv (setup.py): started\n",
      "  Building wheel for nodeenv (setup.py): finished with status 'done'\n",
      "  Stored in directory: C:\\Users\\murmeg01\\AppData\\Local\\pip\\Cache\\wheels\\7b\\6c\\23\\eb26369b77904c8963fae9e64338b0f0b948b4d59710760834\n",
      "Successfully built nodeenv\n",
      "Installing collected packages: zipp, importlib-metadata, pluggy, virtualenv, toml, tox, aspy.yaml, cfgv, identify, nodeenv, pre-commit, translate\n",
      "  Found existing installation: zipp 0.3.3\n",
      "    Uninstalling zipp-0.3.3:\n",
      "Note: you may need to restart the kernel to use updated packages.\n"
     ]
    },
    {
     "name": "stderr",
     "output_type": "stream",
     "text": [
      "Could not install packages due to an EnvironmentError: [WinError 5] Access is denied: 'c:\\\\programdata\\\\anaconda3\\\\lib\\\\site-packages\\\\__pycache__\\\\zipp.cpython-37.pyc'\n",
      "Consider using the `--user` option or check the permissions.\n",
      "\n"
     ]
    }
   ],
   "source": [
    " pip install translate"
   ]
  },
  {
   "cell_type": "code",
   "execution_count": 25,
   "metadata": {},
   "outputs": [
    {
     "ename": "ImportError",
     "evalue": "cannot import name 'Translator' from 'translate' (C:\\ProgramData\\Anaconda3\\lib\\site-packages\\translate\\__init__.py)",
     "output_type": "error",
     "traceback": [
      "\u001b[1;31m---------------------------------------------------------------------------\u001b[0m",
      "\u001b[1;31mImportError\u001b[0m                               Traceback (most recent call last)",
      "\u001b[1;32m<ipython-input-25-908bbcc943f5>\u001b[0m in \u001b[0;36m<module>\u001b[1;34m\u001b[0m\n\u001b[1;32m----> 1\u001b[1;33m \u001b[1;32mfrom\u001b[0m \u001b[0mtranslate\u001b[0m \u001b[1;32mimport\u001b[0m \u001b[0mTranslator\u001b[0m\u001b[1;33m\u001b[0m\u001b[1;33m\u001b[0m\u001b[0m\n\u001b[0m",
      "\u001b[1;31mImportError\u001b[0m: cannot import name 'Translator' from 'translate' (C:\\ProgramData\\Anaconda3\\lib\\site-packages\\translate\\__init__.py)"
     ]
    }
   ],
   "source": [
    "from translate import Translator"
   ]
  },
  {
   "cell_type": "code",
   "execution_count": 27,
   "metadata": {},
   "outputs": [
    {
     "ename": "NameError",
     "evalue": "name 'Translator' is not defined",
     "output_type": "error",
     "traceback": [
      "\u001b[1;31m---------------------------------------------------------------------------\u001b[0m",
      "\u001b[1;31mNameError\u001b[0m                                 Traceback (most recent call last)",
      "\u001b[1;32m<ipython-input-27-e761c49d16be>\u001b[0m in \u001b[0;36m<module>\u001b[1;34m\u001b[0m\n\u001b[1;32m----> 1\u001b[1;33m \u001b[0mtranslator\u001b[0m\u001b[1;33m=\u001b[0m \u001b[0mTranslator\u001b[0m\u001b[1;33m(\u001b[0m\u001b[0mto_lang\u001b[0m\u001b[1;33m=\u001b[0m\u001b[1;34m\"en\"\u001b[0m\u001b[1;33m)\u001b[0m\u001b[1;33m\u001b[0m\u001b[1;33m\u001b[0m\u001b[0m\n\u001b[0m\u001b[0;32m      2\u001b[0m \u001b[0mtranslation\u001b[0m \u001b[1;33m=\u001b[0m \u001b[0mtranslator\u001b[0m\u001b[1;33m.\u001b[0m\u001b[0mtranslate\u001b[0m\u001b[1;33m(\u001b[0m\u001b[1;34m\"لما تطلب من صاحبك يعقل ويقلبا مناحة 💔😂 - مسلسل روزنا شوف دراما\"\u001b[0m\u001b[1;33m)\u001b[0m\u001b[1;33m\u001b[0m\u001b[1;33m\u001b[0m\u001b[0m\n",
      "\u001b[1;31mNameError\u001b[0m: name 'Translator' is not defined"
     ]
    }
   ],
   "source": [
    "translator= Translator(to_lang=\"en\")\n",
    "translation = translator.translate(\"لما تطلب من صاحبك يعقل ويقلبا مناحة 💔😂 - مسلسل روزنا شوف دراما\")"
   ]
  },
  {
   "cell_type": "code",
   "execution_count": 29,
   "metadata": {},
   "outputs": [
    {
     "ename": "SyntaxError",
     "evalue": "invalid syntax (<ipython-input-29-f66482cf4eb7>, line 1)",
     "output_type": "error",
     "traceback": [
      "\u001b[1;36m  File \u001b[1;32m\"<ipython-input-29-f66482cf4eb7>\"\u001b[1;36m, line \u001b[1;32m1\u001b[0m\n\u001b[1;33m    translate-cli -t zh \"This is a pen.\"\u001b[0m\n\u001b[1;37m                      ^\u001b[0m\n\u001b[1;31mSyntaxError\u001b[0m\u001b[1;31m:\u001b[0m invalid syntax\n"
     ]
    }
   ],
   "source": [
    "translate-cli -t zh \"This is a pen.\""
   ]
  }
 ],
 "metadata": {
  "kernelspec": {
   "display_name": "Python 3",
   "language": "python",
   "name": "python3"
  },
  "language_info": {
   "codemirror_mode": {
    "name": "ipython",
    "version": 3
   },
   "file_extension": ".py",
   "mimetype": "text/x-python",
   "name": "python",
   "nbconvert_exporter": "python",
   "pygments_lexer": "ipython3",
   "version": "3.7.1"
  }
 },
 "nbformat": 4,
 "nbformat_minor": 2
}
